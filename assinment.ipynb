{
  "metadata": {
    "language_info": {
      "codemirror_mode": {
        "name": "python",
        "version": 3
      },
      "file_extension": ".py",
      "mimetype": "text/x-python",
      "name": "python",
      "nbconvert_exporter": "python",
      "pygments_lexer": "ipython3",
      "version": "3.8"
    },
    "kernelspec": {
      "name": "python",
      "display_name": "Python (Pyodide)",
      "language": "python"
    }
  },
  "nbformat_minor": 4,
  "nbformat": 4,
  "cells": [
    {
      "cell_type": "markdown",
      "source": "# Data Science",
      "metadata": {
        "trusted": true
      }
    },
    {
      "cell_type": "markdown",
      "source": "## Introduction\n\n\n",
      "metadata": {
        "trusted": true
      }
    },
    {
      "cell_type": "markdown",
      "source": "### data science languages:\n1. R\n2. scala\n3. julia\n4. python",
      "metadata": {
        "trusted": true
      }
    },
    {
      "cell_type": "markdown",
      "source": "### data science libraries:\n1. numpy\n2. pandas\n3. Matplotlib\n4. seaborn\n5. keras\n6. Scikit-learn",
      "metadata": {
        "trusted": true
      }
    },
    {
      "cell_type": "markdown",
      "source": "| data science tools |\n|--------------------|\n| Tableau |\n| SPSS Modeler |\n| Git |\n| Amazon DynamoDB |\n| Informatica |\n| Data Refinary |\n| Datameer |\n| IBM Cognos Analytics |\n| IBM Watson studio |\n| cloudant |\n| CouchDB |\n",
      "metadata": {
        "trusted": true
      }
    },
    {
      "cell_type": "markdown",
      "source": "### Arithmetic Expressions\n4+3\n",
      "metadata": {
        "trusted": true
      }
    },
    {
      "cell_type": "code",
      "source": "5*8+7",
      "metadata": {
        "trusted": true
      },
      "execution_count": 5,
      "outputs": [
        {
          "execution_count": 5,
          "output_type": "execute_result",
          "data": {
            "text/plain": "47"
          },
          "metadata": {}
        }
      ]
    },
    {
      "cell_type": "code",
      "source": "hours, minutes = divmod(350,60)\n",
      "metadata": {
        "trusted": true
      },
      "execution_count": 20,
      "outputs": []
    },
    {
      "cell_type": "markdown",
      "source": "### Objectives\n- what is data science\n- tools for data science\n- data science methodologies\n- python for data science,AI,devolopment\n- python project for data science\n- Databases and SQL for datasciences with python\n- data analysis with python\n- data visualization with python\n- machine learning with python\n- applied data science capstone",
      "metadata": {
        "trusted": true
      }
    },
    {
      "cell_type": "markdown",
      "source": "### Author Details\n\n- Name: Norman white\n- occupation: professor\n- adress: NYU,New York,USA.",
      "metadata": {
        "trusted": true
      }
    },
    {
      "cell_type": "code",
      "source": "",
      "metadata": {
        "trusted": true
      },
      "execution_count": null,
      "outputs": []
    }
  ]
}